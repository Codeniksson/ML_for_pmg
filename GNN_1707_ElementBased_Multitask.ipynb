{
 "cells": [
  {
   "cell_type": "markdown",
   "id": "5b1452d0",
   "metadata": {},
   "source": [
    "# Same as GNN_0707_NodeBased_Multitask.ipynb but with Element-based approach\n",
    "\n",
    "- Creating the dataset from mesh files and solver times, log-transform of time available\n",
    "- Creating the grapth neural network for classification and regression"
   ]
  },
  {
   "cell_type": "code",
   "execution_count": 1,
   "id": "c5c740b7",
   "metadata": {},
   "outputs": [
    {
     "name": "stdout",
     "output_type": "stream",
     "text": [
      "c:\\Users\\aol053\\.conda\\envs\\mytorch\\python.exe\n"
     ]
    }
   ],
   "source": [
    "import sys\n",
    "print(sys.executable)\n"
   ]
  },
  {
   "cell_type": "code",
   "execution_count": 2,
   "id": "a9d3f8d8",
   "metadata": {},
   "outputs": [],
   "source": [
    "import os\n",
    "import time\n",
    "import pandas as pd\n",
    "import numpy as np\n",
    "import torch\n",
    "from torch_geometric.data import Dataset, Data\n",
    "import meshio"
   ]
  },
  {
   "cell_type": "code",
   "execution_count": 3,
   "id": "20b52608",
   "metadata": {},
   "outputs": [],
   "source": [
    "from torch_geometric.utils import to_networkx\n",
    "import matplotlib.pyplot as plt\n",
    "import networkx as nx\n",
    "import contextlib # to suppress output"
   ]
  },
  {
   "cell_type": "code",
   "execution_count": 4,
   "id": "a9b1c334",
   "metadata": {},
   "outputs": [
    {
     "name": "stdout",
     "output_type": "stream",
     "text": [
      "cuda\n"
     ]
    }
   ],
   "source": [
    "device = torch.device(\"cuda\" if torch.cuda.is_available() else \"cpu\")\n",
    "print(device)"
   ]
  },
  {
   "cell_type": "code",
   "execution_count": 5,
   "id": "36460648",
   "metadata": {},
   "outputs": [
    {
     "data": {
      "text/html": [
       "<div>\n",
       "<style scoped>\n",
       "    .dataframe tbody tr th:only-of-type {\n",
       "        vertical-align: middle;\n",
       "    }\n",
       "\n",
       "    .dataframe tbody tr th {\n",
       "        vertical-align: top;\n",
       "    }\n",
       "\n",
       "    .dataframe thead th {\n",
       "        text-align: right;\n",
       "    }\n",
       "</style>\n",
       "<table border=\"1\" class=\"dataframe\">\n",
       "  <thead>\n",
       "    <tr style=\"text-align: right;\">\n",
       "      <th></th>\n",
       "      <th>Mesh #</th>\n",
       "      <th>Fractures #</th>\n",
       "      <th>Combination #</th>\n",
       "      <th>KSP Type</th>\n",
       "      <th>PC Mass</th>\n",
       "      <th>PC Interface</th>\n",
       "      <th>Converged</th>\n",
       "      <th>Krylov Iters</th>\n",
       "      <th>Construction Time (s)</th>\n",
       "      <th>Solve Time (s)</th>\n",
       "      <th>Total Time (s)</th>\n",
       "      <th>Tic Toc Time (s)</th>\n",
       "      <th>Solver Label</th>\n",
       "      <th>Adjusted Time (s)</th>\n",
       "    </tr>\n",
       "  </thead>\n",
       "  <tbody>\n",
       "    <tr>\n",
       "      <th>0</th>\n",
       "      <td>0</td>\n",
       "      <td>53</td>\n",
       "      <td>0</td>\n",
       "      <td>gmres</td>\n",
       "      <td>ilu</td>\n",
       "      <td>ilu</td>\n",
       "      <td>False</td>\n",
       "      <td>NaN</td>\n",
       "      <td>NaN</td>\n",
       "      <td>NaN</td>\n",
       "      <td>NaN</td>\n",
       "      <td>NaN</td>\n",
       "      <td>gmres + ilu + ilu</td>\n",
       "      <td>4.221818</td>\n",
       "    </tr>\n",
       "    <tr>\n",
       "      <th>1</th>\n",
       "      <td>0</td>\n",
       "      <td>53</td>\n",
       "      <td>1</td>\n",
       "      <td>gmres</td>\n",
       "      <td>sor</td>\n",
       "      <td>ilu</td>\n",
       "      <td>False</td>\n",
       "      <td>NaN</td>\n",
       "      <td>NaN</td>\n",
       "      <td>NaN</td>\n",
       "      <td>NaN</td>\n",
       "      <td>NaN</td>\n",
       "      <td>gmres + sor + ilu</td>\n",
       "      <td>4.221818</td>\n",
       "    </tr>\n",
       "    <tr>\n",
       "      <th>2</th>\n",
       "      <td>0</td>\n",
       "      <td>53</td>\n",
       "      <td>2</td>\n",
       "      <td>gmres</td>\n",
       "      <td>jacobi</td>\n",
       "      <td>ilu</td>\n",
       "      <td>False</td>\n",
       "      <td>NaN</td>\n",
       "      <td>NaN</td>\n",
       "      <td>NaN</td>\n",
       "      <td>NaN</td>\n",
       "      <td>NaN</td>\n",
       "      <td>gmres + jacobi + ilu</td>\n",
       "      <td>4.221818</td>\n",
       "    </tr>\n",
       "    <tr>\n",
       "      <th>3</th>\n",
       "      <td>0</td>\n",
       "      <td>53</td>\n",
       "      <td>3</td>\n",
       "      <td>gmres</td>\n",
       "      <td>bjacobi</td>\n",
       "      <td>ilu</td>\n",
       "      <td>False</td>\n",
       "      <td>NaN</td>\n",
       "      <td>NaN</td>\n",
       "      <td>NaN</td>\n",
       "      <td>NaN</td>\n",
       "      <td>NaN</td>\n",
       "      <td>gmres + bjacobi + ilu</td>\n",
       "      <td>4.221818</td>\n",
       "    </tr>\n",
       "    <tr>\n",
       "      <th>4</th>\n",
       "      <td>0</td>\n",
       "      <td>53</td>\n",
       "      <td>4</td>\n",
       "      <td>gmres</td>\n",
       "      <td>asm</td>\n",
       "      <td>ilu</td>\n",
       "      <td>False</td>\n",
       "      <td>NaN</td>\n",
       "      <td>NaN</td>\n",
       "      <td>NaN</td>\n",
       "      <td>NaN</td>\n",
       "      <td>NaN</td>\n",
       "      <td>gmres + asm + ilu</td>\n",
       "      <td>4.221818</td>\n",
       "    </tr>\n",
       "  </tbody>\n",
       "</table>\n",
       "</div>"
      ],
      "text/plain": [
       "   Mesh #  Fractures #  Combination # KSP Type  PC Mass PC Interface  \\\n",
       "0       0           53              0    gmres      ilu          ilu   \n",
       "1       0           53              1    gmres      sor          ilu   \n",
       "2       0           53              2    gmres   jacobi          ilu   \n",
       "3       0           53              3    gmres  bjacobi          ilu   \n",
       "4       0           53              4    gmres      asm          ilu   \n",
       "\n",
       "   Converged  Krylov Iters  Construction Time (s)  Solve Time (s)  \\\n",
       "0      False           NaN                    NaN             NaN   \n",
       "1      False           NaN                    NaN             NaN   \n",
       "2      False           NaN                    NaN             NaN   \n",
       "3      False           NaN                    NaN             NaN   \n",
       "4      False           NaN                    NaN             NaN   \n",
       "\n",
       "   Total Time (s)  Tic Toc Time (s)           Solver Label  Adjusted Time (s)  \n",
       "0             NaN               NaN      gmres + ilu + ilu           4.221818  \n",
       "1             NaN               NaN      gmres + sor + ilu           4.221818  \n",
       "2             NaN               NaN   gmres + jacobi + ilu           4.221818  \n",
       "3             NaN               NaN  gmres + bjacobi + ilu           4.221818  \n",
       "4             NaN               NaN      gmres + asm + ilu           4.221818  "
      ]
     },
     "execution_count": 5,
     "metadata": {},
     "output_type": "execute_result"
    }
   ],
   "source": [
    "df = pd.read_csv(\"D:/ML4pmg/Data_Large2/solver_times.csv\")\n",
    "df.head()"
   ]
  },
  {
   "cell_type": "code",
   "execution_count": 129,
   "id": "67f92864",
   "metadata": {},
   "outputs": [
    {
     "data": {
      "text/plain": [
       "-1.4402659468703236"
      ]
     },
     "execution_count": 129,
     "metadata": {},
     "output_type": "execute_result"
    }
   ],
   "source": [
    "-np.log(df['Adjusted Time (s)'].max())"
   ]
  },
  {
   "cell_type": "markdown",
   "id": "59712d5c",
   "metadata": {},
   "source": [
    "## Create the Element based Dataset class, that can be used to regression and calssification"
   ]
  },
  {
   "cell_type": "code",
   "execution_count": 130,
   "id": "13a2bd43",
   "metadata": {},
   "outputs": [],
   "source": [
    "def compute_triangle_centers_and_features(coords, triangles):\n",
    "    \"\"\"\n",
    "    Compute triangle centers, normalized areas, and internal angles.\n",
    "    Returns:\n",
    "        - centers: (n_triangles, 2) array with (x, y) for each triangle\n",
    "        - features: (n_triangles, 4) array with normalized area and 3 normalized angles\n",
    "    \"\"\"\n",
    "    centers = []\n",
    "    features = []\n",
    "\n",
    "    for tri in triangles:\n",
    "        pts = coords[tri]  # shape (3, 2)\n",
    "        center = np.mean(pts, axis=0)\n",
    "        centers.append(center)\n",
    "\n",
    "        # Side lengths\n",
    "        a = np.linalg.norm(pts[1] - pts[0])\n",
    "        b = np.linalg.norm(pts[2] - pts[1])\n",
    "        c = np.linalg.norm(pts[0] - pts[2])\n",
    "        s = 0.5 * (a + b + c)\n",
    "        area = np.sqrt(max(s * (s - a) * (s - b) * (s - c), 1e-12))\n",
    "\n",
    "        # Normalize area by dividing with triangle with largest possible area in the domain\n",
    "        # This is local normalization per triangle (optional, but helps)\n",
    "        # Or leave raw and normalize globally later\n",
    "        # Here we store raw and normalize later\n",
    "\n",
    "        # Angles using Law of Cosines, then normalize by π to get values ∈ [0, 1]\n",
    "        A = np.arccos(np.clip((b**2 + c**2 - a**2) / (2 * b * c), -1.0, 1.0)) / np.pi\n",
    "        B = np.arccos(np.clip((a**2 + c**2 - b**2) / (2 * a * c), -1.0, 1.0)) / np.pi\n",
    "        C = 1.0 - A - B  # since sum = 1.0 after division by pi\n",
    "\n",
    "        features.append([area, A, B, C])\n",
    "\n",
    "    centers = np.array(centers, dtype=np.float32)\n",
    "    features = np.array(features, dtype=np.float32)\n",
    "\n",
    "    # Normalize area column to [0, 1] using min-max normalization\n",
    "    areas = features[:, 0]\n",
    "    min_area, max_area = areas.min(), areas.max()\n",
    "    features[:, 0] = (areas - min_area) / (max_area - min_area + 1e-8)\n",
    "\n",
    "    return centers, features\n",
    "\n",
    "def build_triangle_adjacency(triangles):\n",
    "    \"\"\"\n",
    "    Construct adjacency graph for triangles.\n",
    "    Two triangles are connected if they share an edge.\n",
    "    \"\"\"\n",
    "    from collections import defaultdict\n",
    "    edge_to_tri = defaultdict(list)\n",
    "\n",
    "    for i, tri in enumerate(triangles):\n",
    "        edges = [(tri[0], tri[1]), (tri[1], tri[2]), (tri[2], tri[0])]\n",
    "        for e in edges:\n",
    "            e_sorted = tuple(sorted(e))\n",
    "            edge_to_tri[e_sorted].append(i)\n",
    "\n",
    "    edge_index = []\n",
    "    for tri_list in edge_to_tri.values():\n",
    "        if len(tri_list) == 2:\n",
    "            i, j = tri_list\n",
    "            edge_index.append((i, j))\n",
    "            edge_index.append((j, i))  # bidirectional\n",
    "\n",
    "    edge_index = torch.tensor(edge_index, dtype=torch.long).t().contiguous()\n",
    "    return edge_index\n",
    "\n",
    "\n",
    "class TwoHeadTriangleMeshDataset(Dataset):\n",
    "    def __init__(self, mesh_dir, csv_path, transform=None, pre_transform=None, log_transform=True):\n",
    "        \"\"\"\n",
    "        mesh_dir: directory with .msh files\n",
    "        csv_path: path to CSV file with solver timings\n",
    "        log_transform: if True, applies -log(x+1e-6) to targets\n",
    "        \"\"\"\n",
    "        super().__init__(mesh_dir, transform, pre_transform)\n",
    "        self.mesh_dir = mesh_dir\n",
    "        self.csv = pd.read_csv(csv_path)\n",
    "\n",
    "        self.mesh_times = self.csv.pivot_table(\n",
    "            index='Mesh #',\n",
    "            columns='Combination #',\n",
    "            values='Adjusted Time (s)'\n",
    "        ).sort_index()\n",
    "\n",
    "        if log_transform:\n",
    "            self.mesh_times = self.mesh_times.applymap(lambda x:  -np.log(abs(x))+1.44)\n",
    "\n",
    "\n",
    "        self.mesh_convergence = self.csv.pivot_table(\n",
    "            index='Mesh #',\n",
    "            columns='Combination #',\n",
    "            values='Converged'\n",
    "        ).sort_index()\n",
    "\n",
    "        # Convert boolean to float (0.0 or 1.0)\n",
    "        self.mesh_convergence = self.mesh_convergence.astype(float)\n",
    "\n",
    "        assert list(self.mesh_times.columns) == list(self.mesh_convergence.columns)\n",
    "\n",
    "        self.mesh_ids = self.mesh_times.index.tolist()\n",
    "        self.combination_ids = self.mesh_times.columns.tolist()  # Should be [0, 1, ...]\n",
    "\n",
    "    def len(self):\n",
    "        return len(self.mesh_ids)\n",
    "\n",
    "    def get(self, idx):\n",
    "        mesh_id = self.mesh_ids[idx]\n",
    "        mesh_filename = f\"mesh2d_Xfr_{mesh_id:04d}.msh\"\n",
    "        mesh_path = os.path.join(self.mesh_dir, mesh_filename)\n",
    "\n",
    "        mesh = meshio.read(mesh_path)\n",
    "        coords = mesh.points[:, :2].astype(np.float32)  # take only x, y\n",
    "        triangles = mesh.cells_dict.get(\"triangle\")\n",
    "\n",
    "        if triangles is None:\n",
    "            raise ValueError(f\"No triangle elements in {mesh_filename}\")\n",
    "\n",
    "        centers, triangle_feats = compute_triangle_centers_and_features(coords, triangles)\n",
    "        x = torch.tensor(np.concatenate([centers, triangle_feats], axis=1), dtype=torch.float32)\n",
    "        edge_index = build_triangle_adjacency(triangles)\n",
    "\n",
    "        # Regression target: Total Time (s)\n",
    "        y_time = torch.tensor(self.mesh_times.loc[mesh_id].values.astype(np.float32))\n",
    "\n",
    "        # Classification target: Converged\n",
    "        y_conv = torch.tensor(self.mesh_convergence.loc[mesh_id].values.astype(np.float32))\n",
    "\n",
    "        data = Data(x=x, edge_index=edge_index, y_time=y_time, y_conv=y_conv)\n",
    "        data.mesh_id = mesh_id\n",
    "        \n",
    "        return data"
   ]
  },
  {
   "cell_type": "code",
   "execution_count": 131,
   "id": "d1148d53",
   "metadata": {},
   "outputs": [
    {
     "name": "stdout",
     "output_type": "stream",
     "text": [
      "Loaded 1000 graphs\n",
      "\n",
      "Data(x=[19657, 6], edge_index=[2, 58714], y_time=[18], y_conv=[18], mesh_id=0)\n"
     ]
    }
   ],
   "source": [
    "dataset = TwoHeadTriangleMeshDataset(\n",
    "    mesh_dir=\"D:/ML4pmg/Data_Large2/\",\n",
    "    csv_path=\"D:/ML4pmg/Data_Large2/solver_times.csv\",\n",
    "    log_transform=True\n",
    ")\n",
    "\n",
    "print(f\"Loaded {len(dataset)} graphs\")\n",
    "print(dataset[0])\n"
   ]
  },
  {
   "cell_type": "code",
   "execution_count": 132,
   "id": "bf446965",
   "metadata": {},
   "outputs": [
    {
     "name": "stdout",
     "output_type": "stream",
     "text": [
      "\n",
      "tensor([-0.0003, -0.0003, -0.0003, -0.0003, -0.0003, -0.0003, -0.0003, -0.0003,\n",
      "        -0.0003, -0.0003, -0.0003, -0.0003, -0.0003, -0.0003, -0.0003, -0.0003,\n",
      "        -0.0003, -0.0003])\n",
      "tensor([0., 0., 0., 0., 0., 0., 0., 0., 0., 0., 0., 0., 0., 0., 0., 0., 0., 0.])\n"
     ]
    }
   ],
   "source": [
    "data = dataset[0]\n",
    "print(data.y_time) \n",
    "print(data.y_conv) "
   ]
  },
  {
   "cell_type": "markdown",
   "id": "30200a3f",
   "metadata": {},
   "source": [
    "### Load the mesh_Id for balancing the data, created in Data_Large_Analysis"
   ]
  },
  {
   "cell_type": "code",
   "execution_count": 133,
   "id": "dc35f720",
   "metadata": {},
   "outputs": [
    {
     "data": {
      "text/plain": [
       "450"
      ]
     },
     "execution_count": 133,
     "metadata": {},
     "output_type": "execute_result"
    }
   ],
   "source": [
    "balanced_mesh_ids = np.loadtxt(\"Data_Large2/balanced_mesh_ids.csv\", dtype=int).tolist()\n",
    "len(balanced_mesh_ids)"
   ]
  },
  {
   "cell_type": "code",
   "execution_count": 14,
   "id": "a94ab317",
   "metadata": {},
   "outputs": [
    {
     "data": {
      "image/png": "[encoded data removed]",
      "text/plain": [
       "<Figure size 640x480 with 1 Axes>"
      ]
     },
     "metadata": {},
     "output_type": "display_data"
    }
   ],
   "source": [
    "plt.hist(balanced_mesh_ids, bins = 10);"
   ]
  },
  {
   "cell_type": "code",
   "execution_count": 134,
   "id": "0e7cec91",
   "metadata": {},
   "outputs": [
    {
     "name": "stdout",
     "output_type": "stream",
     "text": [
      "450 graphs loaded\n"
     ]
    }
   ],
   "source": [
    "class FilteredDataset(TwoHeadTriangleMeshDataset):\n",
    "    def __init__(self, mesh_dir, csv_path, selected_mesh_ids, **kwargs):\n",
    "        super().__init__(mesh_dir, csv_path, **kwargs)\n",
    "\n",
    "        # Override mesh_ids with the provided list (with duplicates)\n",
    "        self.mesh_ids = selected_mesh_ids\n",
    "\n",
    "\n",
    "\n",
    "allowed_ids = set(balanced_mesh_ids)\n",
    "dataset = FilteredDataset(\n",
    "    mesh_dir=\"D:/ML4pmg/Data_Large2/\",\n",
    "    csv_path=\"D:/ML4pmg/Data_Large2/solver_times.csv\",\n",
    "    selected_mesh_ids=balanced_mesh_ids,\n",
    "    log_transform=True)\n",
    "print(f\"{len(dataset)} graphs loaded\")"
   ]
  },
  {
   "cell_type": "markdown",
   "id": "ef3aa2bf",
   "metadata": {},
   "source": [
    "## Visualize few samples in the dataset"
   ]
  },
  {
   "cell_type": "code",
   "execution_count": 18,
   "id": "0294c4d3",
   "metadata": {},
   "outputs": [
    {
     "name": "stdout",
     "output_type": "stream",
     "text": [
      "\n",
      "\n",
      "\n"
     ]
    },
    {
     "data": {
      "image/png": "[encoded data removed]",
      "text/plain": [
       "<Figure size 1500x500 with 6 Axes>"
      ]
     },
     "metadata": {},
     "output_type": "display_data"
    }
   ],
   "source": [
    "fig, axes = plt.subplots(2, 3, figsize=(15, 5))\n",
    "\n",
    "for i in range(3):\n",
    "    data = dataset[50*i]\n",
    "    G = to_networkx(data, to_undirected=True)\n",
    "    \n",
    "    # Use node coordinates for layout\n",
    "    pos = {j: (data.x[j][0].item(), data.x[j][1].item()) for j in range(data.num_nodes)}\n",
    "    \n",
    "    ax = axes[0,i]\n",
    "    nx.draw(\n",
    "        G, pos=pos, ax=ax, node_size=10, edge_color=\"gray\"\n",
    "    )\n",
    "    ax.set_title(f\"Mesh {data.mesh_id}\")\n",
    "    ax.axis(\"equal\")\n",
    "    ax.axis(\"off\")\n",
    "\n",
    "    ax = axes[1,i]\n",
    "    ax.bar(range(len(data.y_conv)),data.y_conv.numpy(), color='red', alpha=0.7)\n",
    "    ax.set_box_aspect(1) \n",
    "\n",
    "plt.tight_layout()\n",
    "plt.show()\n"
   ]
  },
  {
   "cell_type": "markdown",
   "id": "9ffba1d5",
   "metadata": {},
   "source": [
    "## Create the model"
   ]
  },
  {
   "cell_type": "markdown",
   "id": "64cd329b",
   "metadata": {},
   "source": [
    "Import needed packages"
   ]
  },
  {
   "cell_type": "code",
   "execution_count": 135,
   "id": "0a68b5aa",
   "metadata": {},
   "outputs": [],
   "source": [
    "# For building the neural network\n",
    "import torch.nn.functional as F\n",
    "from torch_geometric.nn import GCNConv, GATConv, global_mean_pool\n",
    "\n",
    "# For data splitting and loading\n",
    "from torch_geometric.loader import DataLoader\n",
    "from torch_geometric.data import Batch\n",
    "from torch.utils.data import random_split\n",
    "\n",
    "\n",
    "# For training\n",
    "import torch.optim as optim"
   ]
  },
  {
   "cell_type": "markdown",
   "id": "fa11910c",
   "metadata": {},
   "source": [
    "## MultiTask Learning Model with TopKPooling"
   ]
  },
  {
   "cell_type": "code",
   "execution_count": 136,
   "id": "489e3439",
   "metadata": {},
   "outputs": [],
   "source": [
    "\n",
    "from torch_geometric.nn import GCNConv, TopKPooling, global_mean_pool\n",
    "\n",
    "class ElementMultiTaskNet(torch.nn.Module):\n",
    "    def __init__(self, input_dim, hidden_dim, output_dim=21):\n",
    "        super().__init__()\n",
    "        self.output_dim = output_dim\n",
    "        self.conv1 = GCNConv(input_dim, hidden_dim)\n",
    "        self.pool1 = TopKPooling(hidden_dim, ratio=0.8)\n",
    "\n",
    "        self.conv2 = GCNConv(hidden_dim, hidden_dim)\n",
    "        self.pool2 = TopKPooling(hidden_dim, ratio=0.5)\n",
    "\n",
    "        self.lin1 = torch.nn.Linear(hidden_dim, hidden_dim)\n",
    "\n",
    "        # Two output heads\n",
    "        self.conv_head = torch.nn.Linear(hidden_dim, output_dim)  # Convergence classification\n",
    "        self.time_head = torch.nn.Linear(hidden_dim, output_dim)  # Time regression\n",
    "\n",
    "    def forward(self, x, edge_index, batch):\n",
    "        # First GCN + pooling\n",
    "        x = F.relu(self.conv1(x, edge_index))\n",
    "        x, edge_index, _, batch, _, _ = self.pool1(x, edge_index, None, batch)\n",
    "\n",
    "        # Second GCN + pooling\n",
    "        x = F.relu(self.conv2(x, edge_index))\n",
    "        x, edge_index, _, batch, _, _ = self.pool2(x, edge_index, None, batch)\n",
    "\n",
    "        # Global pooling\n",
    "        x = global_mean_pool(x, batch)\n",
    "\n",
    "        # Shared fully connected layer\n",
    "        x = F.relu(self.lin1(x))\n",
    "\n",
    "        # Two output heads\n",
    "        y_conv = self.conv_head(x)  # Classification output\n",
    "        y_time = self.time_head(x)  # Regression output\n",
    "\n",
    "        return y_conv, y_time\n",
    "\n"
   ]
  },
  {
   "cell_type": "code",
   "execution_count": 21,
   "id": "80de5a8a",
   "metadata": {},
   "outputs": [
    {
     "name": "stdout",
     "output_type": "stream",
     "text": [
      "\n",
      "Node feature dim: 6\n",
      "\n",
      "Target vector dim: 18\n",
      "\n",
      "Target vector dim: 18\n"
     ]
    }
   ],
   "source": [
    "print(\"Node feature dim:\", dataset[0].x.shape[1])\n",
    "print(\"Target vector dim:\", dataset[0].y_conv.shape[0])\n",
    "print(\"Target vector dim:\", dataset[0].y_time.shape[0])\n"
   ]
  },
  {
   "cell_type": "markdown",
   "id": "9f0c6ba9",
   "metadata": {},
   "source": [
    "Split data and make dataset for  batch training. Pre-select and save batches (for relatively small datasets)."
   ]
  },
  {
   "cell_type": "code",
   "execution_count": 137,
   "id": "d37e90a8",
   "metadata": {},
   "outputs": [
    {
     "name": "stdout",
     "output_type": "stream",
     "text": [
      "Pre-batched 6 train batches and 2 test batches\n"
     ]
    }
   ],
   "source": [
    "# Set random seed for reproducibility\n",
    "torch.manual_seed(24)\n",
    "\n",
    "# Define split sizes\n",
    "total_len = len(dataset)\n",
    "train_len = int(0.8 * total_len)\n",
    "test_len = total_len - train_len\n",
    "\n",
    "train_dataset, test_dataset = random_split(dataset, [train_len, test_len])\n",
    "\n",
    "\n",
    "batch_size = 64  # Set to 450 for full batch, or specify a number for mini-batches\n",
    "\n",
    "def create_static_batches(dataset, batch_size):\n",
    "    batches = []\n",
    "    for i in range(0, len(dataset), batch_size):\n",
    "        with contextlib.redirect_stdout(None):\n",
    "            batch = Batch.from_data_list(dataset[i:i+batch_size])\n",
    "        batches.append(batch)\n",
    "    return batches\n",
    "\n",
    "train_batches = create_static_batches(train_dataset, batch_size=batch_size)\n",
    "test_batches = create_static_batches(test_dataset, batch_size=batch_size)\n",
    "\n",
    "print(f\"Pre-batched {len(train_batches)} train batches and {len(test_batches)} test batches\")\n"
   ]
  },
  {
   "cell_type": "code",
   "execution_count": null,
   "id": "cbabe7fd",
   "metadata": {},
   "outputs": [
    {
     "name": "stdout",
     "output_type": "stream",
     "text": [
      "Node count: min=3282, max=24073\n",
      "Edge count: min=19347, max=143649\n"
     ]
    }
   ],
   "source": [
    "#Perhaps the model need to get these numbers (scaled)\n",
    "\n",
    "# train_nodes = []\n",
    "# train_edges = []\n",
    "# with contextlib.redirect_stdout(None):\n",
    "#         for data in train_dataset:\n",
    "#                 train_nodes.append(data.num_nodes)\n",
    "#                 train_edges.append(data.edge_index.size(1))\n",
    "\n",
    "# min_nodes = min(train_nodes)\n",
    "# max_nodes = max(train_nodes)\n",
    "# min_edges = min(train_edges)\n",
    "# max_edges = max(train_edges)\n",
    "\n",
    "# print(f\"Node count: min={min_nodes}, max={max_nodes}\")\n",
    "# print(f\"Edge count: min={min_edges}, max={max_edges}\")\n"
   ]
  },
  {
   "cell_type": "code",
   "execution_count": 19,
   "id": "ae80de16",
   "metadata": {},
   "outputs": [
    {
     "name": "stdout",
     "output_type": "stream",
     "text": [
      "\n",
      "Data(x=[12532, 3], edge_index=[2, 74658], y_time=[21], y_conv=[21], mesh_id=840)\n",
      "\n",
      "Data(x=[8843, 3], edge_index=[2, 52548], y_time=[21], y_conv=[21], mesh_id=507)\n",
      "\n",
      "Data(x=[5968, 3], edge_index=[2, 35007], y_time=[21], y_conv=[21], mesh_id=896)\n",
      "\n",
      "Data(x=[4375, 3], edge_index=[2, 25827], y_time=[21], y_conv=[21], mesh_id=180)\n",
      "\n",
      "Data(x=[4156, 3], edge_index=[2, 24414], y_time=[21], y_conv=[21], mesh_id=844)\n"
     ]
    }
   ],
   "source": [
    "for i in range(5):\n",
    "    print(repr(train_dataset[i]))"
   ]
  },
  {
   "cell_type": "code",
   "execution_count": 27,
   "id": "0c87aafe",
   "metadata": {},
   "outputs": [
    {
     "name": "stdout",
     "output_type": "stream",
     "text": [
      "\n"
     ]
    }
   ],
   "source": [
    "m = dataset[0].y_conv.shape[0]"
   ]
  },
  {
   "cell_type": "code",
   "execution_count": 138,
   "id": "bc949077",
   "metadata": {},
   "outputs": [
    {
     "name": "stdout",
     "output_type": "stream",
     "text": [
      "ElementMultiTaskNet(\n",
      "  (conv1): GCNConv(6, 64)\n",
      "  (pool1): TopKPooling(64, ratio=0.8, multiplier=1.0)\n",
      "  (conv2): GCNConv(64, 64)\n",
      "  (pool2): TopKPooling(64, ratio=0.5, multiplier=1.0)\n",
      "  (lin1): Linear(in_features=64, out_features=64, bias=True)\n",
      "  (conv_head): Linear(in_features=64, out_features=18, bias=True)\n",
      "  (time_head): Linear(in_features=64, out_features=18, bias=True)\n",
      ")\n",
      "Number of trainable parameters: 11236\n"
     ]
    }
   ],
   "source": [
    "# gnn_model = SolverTimeNet(\n",
    "#     input_dim = 3,\n",
    "#     hidden_dim = 64,\n",
    "#     output_dim = 21\n",
    "# ).to(device)\n",
    "gnn_model = ElementMultiTaskNet(\n",
    "     input_dim = 6,\n",
    "     hidden_dim = 64,\n",
    "     output_dim = m\n",
    " ).to(device)\n",
    "\n",
    "print(gnn_model)\n",
    "\n",
    "num_params = sum(p.numel() for p in gnn_model.parameters() if p.requires_grad)\n",
    "print(f\"Number of trainable parameters: {num_params}\")\n",
    "\n",
    "\n"
   ]
  },
  {
   "cell_type": "code",
   "execution_count": null,
   "id": "b5440b0c",
   "metadata": {},
   "outputs": [],
   "source": [
    "def multitask_loss2(y_conv_pred, y_time_pred, y_conv_true, y_time_true, alpha=1.0):\n",
    "    # Binary classification loss\n",
    "    loss_class = F.binary_cross_entropy_with_logits(y_conv_pred, y_conv_true)\n",
    "\n",
    "    # Mask: apply regression loss only to converged entries\n",
    "    mask = y_conv_true.bool()\n",
    "    if mask.sum() > 0:\n",
    "        loss_reg = F.mse_loss(y_time_pred[mask], y_time_true[mask])\n",
    "    else:\n",
    "        loss_reg = 0.0\n",
    "\n",
    "    return loss_class + alpha * loss_reg\n"
   ]
  },
  {
   "cell_type": "code",
   "execution_count": 139,
   "id": "5c6eb8dc",
   "metadata": {},
   "outputs": [],
   "source": [
    "def multitask_loss(y_conv_pred, y_time_pred, y_conv_true, y_time_true, alpha=1.0):\n",
    "    \"\"\"\n",
    "    if alpha = 1, it is purely regression loss, if alpha = 0, it is purely classification loss\n",
    "    \"\"\"\n",
    "    # Binary classification loss\n",
    "    loss_class = F.binary_cross_entropy_with_logits(y_conv_pred, y_conv_true)\n",
    "    # Regression loss\n",
    "    loss_reg = F.mse_loss(y_time_pred, y_time_true)\n",
    "    \n",
    "    return (1-alpha)*loss_class + alpha * loss_reg"
   ]
  },
  {
   "cell_type": "code",
   "execution_count": 140,
   "id": "30c25a07",
   "metadata": {},
   "outputs": [],
   "source": [
    "def train_epoch_static(model, batches, optimizer, device, alpha=1.0):\n",
    "    m=model.conv_head.out_features\n",
    "    model.train()\n",
    "    total_loss = 0\n",
    "    for batch in batches:\n",
    "        batch = batch.to(device)\n",
    "        optimizer.zero_grad()\n",
    "\n",
    "        y_conv_logits, y_time_pred = model(batch.x, batch.edge_index, batch.batch)\n",
    "\n",
    "        # Reshape targets\n",
    "        y_conv_true = batch.y_conv.view(-1, m)\n",
    "        y_time_true = batch.y_time.view(-1, m)\n",
    "\n",
    "        loss = multitask_loss(\n",
    "            y_conv_logits, y_time_pred,\n",
    "            y_conv_true, y_time_true,\n",
    "            alpha=alpha\n",
    "        )\n",
    "\n",
    "        loss.backward()\n",
    "        optimizer.step()\n",
    "        total_loss += loss.item() * batch.num_graphs\n",
    "    return total_loss / sum(batch.num_graphs for batch in batches)\n",
    "\n",
    "\n",
    "\n",
    "def evaluate_epoch_static(model, batches, device, alpha=1.0):\n",
    "    m=model.conv_head.out_features\n",
    "    model.eval()\n",
    "    total_loss = 0\n",
    "    with torch.no_grad():\n",
    "        for batch in batches:\n",
    "            batch = batch.to(device)\n",
    "            y_conv_logits, y_time_pred = model(batch.x, batch.edge_index, batch.batch)\n",
    "\n",
    "            # Reshape targets\n",
    "            y_conv_true = batch.y_conv.view(-1, m)\n",
    "            y_time_true = batch.y_time.view(-1, m)\n",
    "\n",
    "            loss = multitask_loss(\n",
    "                y_conv_logits, y_time_pred,\n",
    "                y_conv_true, y_time_true,\n",
    "                alpha=alpha\n",
    "            )\n",
    "\n",
    "            total_loss += loss.item() * batch.num_graphs\n",
    "    return total_loss / sum(batch.num_graphs for batch in batches)\n"
   ]
  },
  {
   "cell_type": "markdown",
   "id": "59b17129",
   "metadata": {},
   "source": [
    "Lets make one forward pass to check!"
   ]
  },
  {
   "cell_type": "code",
   "execution_count": 141,
   "id": "fc10aec0",
   "metadata": {},
   "outputs": [
    {
     "name": "stdout",
     "output_type": "stream",
     "text": [
      "\n",
      "Output shapes:\n",
      "  y_conv_logits: torch.Size([1, 18])\n",
      "  y_time_pred  : torch.Size([1, 18])\n",
      "\n",
      "Convergence probabilities (sigmoid):\n",
      "[[0.5246283  0.5195832  0.49401757 0.5077906  0.48867747 0.48491856\n",
      "  0.5089936  0.47441554 0.47378084 0.51077694 0.47510102 0.48719233\n",
      "  0.519326   0.5415991  0.48783702 0.49788782 0.48889664 0.50595194]]\n",
      "\n",
      "Predicted -log(times):\n",
      "[[-0.10109895 -0.07123537 -0.09223215 -0.00949884  0.12530155  0.09328732\n",
      "   0.1399131   0.04966184 -0.12235306 -0.04817452 -0.08704648  0.06243341\n",
      "   0.04586611 -0.05063651 -0.00878322  0.06487228 -0.08929265  0.08522619]]\n"
     ]
    }
   ],
   "source": [
    "data = dataset[0].to(device)\n",
    "\n",
    "gnn_model.eval()  # set to evaluation mode\n",
    "with torch.no_grad():\n",
    "    # All nodes belong to graph 0 → batch_vector is all zeros\n",
    "    batch_vector = torch.zeros(data.num_nodes, dtype=torch.long, device=device)\n",
    "\n",
    "    # Run the model (returns two outputs)\n",
    "    y_conv_logits, y_time_pred = gnn_model(data.x, data.edge_index, batch_vector)\n",
    "\n",
    "    # Optional: convert logits to probabilities for interpretation\n",
    "    y_conv_prob = torch.sigmoid(y_conv_logits)\n",
    "\n",
    "print(\"Output shapes:\")\n",
    "print(\"  y_conv_logits:\", y_conv_logits.shape)  # should be (1, 21)\n",
    "print(\"  y_time_pred  :\", y_time_pred.shape)    # should be (1, 21)\n",
    "\n",
    "print(\"\\nConvergence probabilities (sigmoid):\")\n",
    "print(y_conv_prob.cpu().numpy())\n",
    "\n",
    "print(\"\\nPredicted -log(times):\")\n",
    "print(y_time_pred.cpu().numpy())\n"
   ]
  },
  {
   "cell_type": "markdown",
   "id": "cef01ca1",
   "metadata": {},
   "source": [
    "## Train the model"
   ]
  },
  {
   "cell_type": "code",
   "execution_count": 34,
   "id": "eb577691",
   "metadata": {},
   "outputs": [
    {
     "name": "stdout",
     "output_type": "stream",
     "text": [
      "\n"
     ]
    }
   ],
   "source": [
    "m = dataset[0].y_conv.shape[0]"
   ]
  },
  {
   "cell_type": "code",
   "execution_count": 142,
   "id": "72b56d8b",
   "metadata": {},
   "outputs": [
    {
     "name": "stdout",
     "output_type": "stream",
     "text": [
      "ElementMultiTaskNet(\n",
      "  (conv1): GCNConv(6, 64)\n",
      "  (pool1): TopKPooling(64, ratio=0.8, multiplier=1.0)\n",
      "  (conv2): GCNConv(64, 64)\n",
      "  (pool2): TopKPooling(64, ratio=0.5, multiplier=1.0)\n",
      "  (lin1): Linear(in_features=64, out_features=64, bias=True)\n",
      "  (conv_head): Linear(in_features=64, out_features=18, bias=True)\n",
      "  (time_head): Linear(in_features=64, out_features=18, bias=True)\n",
      ")\n",
      "Number of trainable parameters: 11236\n"
     ]
    }
   ],
   "source": [
    "gnn_model = ElementMultiTaskNet(\n",
    "     input_dim = 6,\n",
    "     hidden_dim = 64,\n",
    "     output_dim = m\n",
    " ).to(device)\n",
    "\n",
    "print(gnn_model)\n",
    "\n",
    "num_params = sum(p.numel() for p in gnn_model.parameters() if p.requires_grad)\n",
    "print(f\"Number of trainable parameters: {num_params}\")\n"
   ]
  },
  {
   "cell_type": "code",
   "execution_count": 143,
   "id": "8fc84f47",
   "metadata": {},
   "outputs": [],
   "source": [
    "optimizer = torch.optim.Adam(gnn_model.parameters(), lr=0.001)\n",
    "scheduler = torch.optim.lr_scheduler.ReduceLROnPlateau(optimizer, mode='min', factor=0.5, patience=3)"
   ]
  },
  {
   "cell_type": "code",
   "execution_count": 144,
   "id": "7fedf33b",
   "metadata": {},
   "outputs": [],
   "source": [
    "train_losses = []\n",
    "test_losses = []"
   ]
  },
  {
   "cell_type": "code",
   "execution_count": 158,
   "id": "44ae4234",
   "metadata": {},
   "outputs": [
    {
     "name": "stdout",
     "output_type": "stream",
     "text": [
      "Epoch 001 | Train Loss: 0.5928 | Test Loss: 0.5819 | Time Spent: 13.46 s\n",
      "Epoch 002 | Train Loss: 0.5916 | Test Loss: 0.5810 | Time Spent: 13.09 s\n",
      "Epoch 003 | Train Loss: 0.5905 | Test Loss: 0.5799 | Time Spent: 13.11 s\n",
      "Epoch 004 | Train Loss: 0.5894 | Test Loss: 0.5793 | Time Spent: 13.11 s\n",
      "Epoch 005 | Train Loss: 0.5884 | Test Loss: 0.5788 | Time Spent: 13.10 s\n",
      "Epoch 006 | Train Loss: 0.5875 | Test Loss: 0.5782 | Time Spent: 13.13 s\n",
      "Epoch 007 | Train Loss: 0.5866 | Test Loss: 0.5776 | Time Spent: 13.10 s\n",
      "Epoch 008 | Train Loss: 0.5857 | Test Loss: 0.5769 | Time Spent: 13.11 s\n",
      "Epoch 009 | Train Loss: 0.5847 | Test Loss: 0.5764 | Time Spent: 13.12 s\n",
      "Epoch 010 | Train Loss: 0.5838 | Test Loss: 0.5759 | Time Spent: 13.16 s\n"
     ]
    }
   ],
   "source": [
    "n_epochs=10\n",
    "\n",
    "\n",
    "alpha = 0.5 # 1: Purely regression loss, 0: Purely classification loss (with multitask loss without mask!)\n",
    "\n",
    "for epoch in range(1, n_epochs + 1):\n",
    "    t0 = time.time()\n",
    "    train_loss = train_epoch_static(gnn_model, train_batches, optimizer, device, alpha=alpha)\n",
    "    t1 = time.time()\n",
    "    test_loss = evaluate_epoch_static(gnn_model, test_batches, device, alpha=alpha)\n",
    "    train_losses.append(train_loss)\n",
    "    test_losses.append(test_loss)\n",
    "    print(f\"Epoch {epoch:03d} | Train Loss: {train_loss:.4f} | Test Loss: {test_loss:.4f} | Time Spent: {t1-t0:.2f} s\")\n"
   ]
  },
  {
   "cell_type": "code",
   "execution_count": 152,
   "id": "58b13b67",
   "metadata": {},
   "outputs": [
    {
     "name": "stdout",
     "output_type": "stream",
     "text": [
      "conv1.bias tensor(0.0042, device='cuda:0')\n",
      "conv1.lin.weight tensor(0.0018, device='cuda:0')\n",
      "pool1.select.weight tensor(0.0027, device='cuda:0')\n",
      "conv2.bias tensor(0.0016, device='cuda:0')\n",
      "conv2.lin.weight tensor(0.0002, device='cuda:0')\n",
      "pool2.select.weight tensor(0.0003, device='cuda:0')\n",
      "lin1.weight tensor(0.0003, device='cuda:0')\n",
      "lin1.bias tensor(0.0010, device='cuda:0')\n",
      "conv_head.weight tensor(0.0004, device='cuda:0')\n",
      "conv_head.bias tensor(0.0009, device='cuda:0')\n",
      "time_head.weight tensor(0.0018, device='cuda:0')\n",
      "time_head.bias tensor(0.0036, device='cuda:0')\n"
     ]
    }
   ],
   "source": [
    "for name, param in gnn_model.named_parameters():\n",
    "    if param.grad is not None:\n",
    "        print(name, param.grad.abs().mean())\n"
   ]
  },
  {
   "cell_type": "code",
   "execution_count": 153,
   "id": "1cc9ed46",
   "metadata": {},
   "outputs": [
    {
     "data": {
      "image/png": "[encoded data removed]",
      "text/plain": [
       "<Figure size 800x500 with 1 Axes>"
      ]
     },
     "metadata": {},
     "output_type": "display_data"
    }
   ],
   "source": [
    "# Plotting\n",
    "plt.figure(figsize=(8, 5))\n",
    "plt.plot(train_losses[0:], label='Train Loss')\n",
    "plt.plot(test_losses[0:], label='Test Loss')\n",
    "plt.xlabel(\"Epoch\")\n",
    "plt.ylabel(\"Loss\")\n",
    "plt.title(\"Training and Test Loss over Epochs\")\n",
    "plt.legend()\n",
    "plt.grid(True)\n",
    "plt.tight_layout()\n",
    "plt.show()\n"
   ]
  },
  {
   "cell_type": "code",
   "execution_count": 148,
   "id": "9fb98954",
   "metadata": {},
   "outputs": [
    {
     "name": "stdout",
     "output_type": "stream",
     "text": [
      "Learning Rate = 0.001000\n"
     ]
    }
   ],
   "source": [
    "print(f\"Learning Rate = {optimizer.param_groups[0]['lr']:.6f}\")"
   ]
  },
  {
   "cell_type": "markdown",
   "id": "ecf38e91",
   "metadata": {},
   "source": [
    "## Understand Predicitons"
   ]
  },
  {
   "cell_type": "code",
   "execution_count": 156,
   "id": "e826c7cf",
   "metadata": {},
   "outputs": [
    {
     "name": "stdout",
     "output_type": "stream",
     "text": [
      "\n"
     ]
    },
    {
     "data": {
      "image/png": "[encoded data removed]",
      "text/plain": [
       "<Figure size 1000x400 with 1 Axes>"
      ]
     },
     "metadata": {},
     "output_type": "display_data"
    }
   ],
   "source": [
    "# Select one sample from test_dataset\n",
    "data = test_dataset[18].to(device)\n",
    "\n",
    "\n",
    "# Prepare batch vector (all zeros for a single graph)\n",
    "batch_vector = torch.zeros(data.num_nodes, dtype=torch.long, device = device)\n",
    "\n",
    "# Model to eval mode\n",
    "gnn_model.eval()\n",
    "with torch.no_grad():\n",
    "    y_conv_logits, y_time_pred = gnn_model(data.x, data.edge_index, batch_vector)\n",
    "    y_conv_prob = torch.sigmoid(y_conv_logits.view(-1,m)) \n",
    "    \n",
    "    y_conv_true = data.y_conv; y_time_true = data.y_time\n",
    "    # Convert to NumPy for plotting\n",
    "y_conv_prob= y_conv_prob.detach().cpu().numpy()\n",
    "y_time_pred = y_time_pred.detach().cpu().numpy()\n",
    "\n",
    "y_conv_true= y_conv_true.detach().cpu().numpy()\n",
    "y_time_true = y_time_true.detach().cpu().numpy()\n",
    "\n",
    "# Convert to NumPy and flatten\n",
    "y_conv_prob = y_conv_prob.flatten()\n",
    "y_time_pred = y_time_pred.flatten()\n",
    "y_conv_true = y_conv_true.flatten()\n",
    "y_time_true = y_time_true.flatten()\n",
    "\n",
    "# Plot\n",
    "plt.figure(figsize=(10, 4))\n",
    "width = 0.35\n",
    "indices = range(len(y_conv_true))\n",
    "\n",
    "labels = df['Solver Label'].values[0:m]\n",
    "\n",
    "plt.bar([i - width/2 for i in indices], y_conv_true, width=width, label=\"True\", alpha=0.7)\n",
    "plt.bar([i + width/2 for i in indices], y_conv_prob, width=width, label=\"Predicted\", alpha=0.7)\n",
    "plt.grid(True, linestyle='--', alpha=0.5)\n",
    "\n",
    "plt.xlabel(\"Solver Label\")\n",
    "plt.xticks(indices, labels, rotation=90)\n",
    "plt.ylabel(\"Convergence Probability\")\n",
    "plt.title(f\"Predicted vs True Convergence for Mesh {data.mesh_id}\")\n",
    "plt.legend()\n",
    "plt.tight_layout()\n",
    "plt.show()\n"
   ]
  },
  {
   "cell_type": "code",
   "execution_count": 157,
   "id": "cef1b1a3",
   "metadata": {},
   "outputs": [
    {
     "data": {
      "image/png": "[encoded data removed]",
      "text/plain": [
       "<Figure size 1000x400 with 1 Axes>"
      ]
     },
     "metadata": {},
     "output_type": "display_data"
    }
   ],
   "source": [
    "# Plot\n",
    "plt.figure(figsize=(10, 4))\n",
    "width = 0.35\n",
    "indices = range(len(y_conv_true))\n",
    "\n",
    "labels = df['Solver Label'].values[0:m]\n",
    "\n",
    "# y_time_true[y_conv_true<0.5] = None\n",
    "# y_time_pred[y_conv_prob<0.5] = None\n",
    "\n",
    "plt.bar([i - width/2 for i in indices], y_time_true, width=width, label=\"True\", alpha=0.7)\n",
    "plt.bar([i + width/2 for i in indices], y_time_pred, width=width, label=\"Predicted\", alpha=0.7)\n",
    "plt.grid(True, linestyle='--', alpha=0.5)\n",
    "\n",
    "plt.xlabel(\"Solver Label\")\n",
    "plt.xticks(indices, labels, rotation=90)\n",
    "plt.ylabel(\"Total Time (s)\")\n",
    "plt.title(f\"Predicted vs True Time for Mesh {data.mesh_id}\")\n",
    "plt.legend()\n",
    "plt.tight_layout()\n",
    "plt.show()"
   ]
  },
  {
   "cell_type": "code",
   "execution_count": 271,
   "id": "b74def79",
   "metadata": {},
   "outputs": [
    {
     "name": "stdout",
     "output_type": "stream",
     "text": [
      "Optimal thresholds per solver combination:\n",
      "[0.5  0.   0.5  0.5  0.5  0.5  0.09 0.23 0.   0.5  0.5  0.23 0.24 0.59\n",
      " 0.07 0.   0.5  0.5  0.06 0.05 0.4 ]\n"
     ]
    }
   ],
   "source": [
    "from sklearn.metrics import f1_score\n",
    "\n",
    "\n",
    "# Step 1: Collect predictions and labels\n",
    "all_logits = []\n",
    "all_targets = []\n",
    "\n",
    "gnn_model.eval()\n",
    "with torch.no_grad():\n",
    "    for batch in train_batches:\n",
    "        batch = batch.to(device)\n",
    "        y_logits, _ = gnn_model(batch.x, batch.edge_index, batch.batch)\n",
    "        y_true = batch.y_conv.view(-1, 21)\n",
    "        \n",
    "        all_logits.append(y_logits.cpu())\n",
    "        all_targets.append(y_true.cpu())\n",
    "\n",
    "# Combine\n",
    "logits = torch.cat(all_logits).numpy()       # shape [N, 21]\n",
    "targets = torch.cat(all_targets).numpy()     # shape [N, 21]\n",
    "\n",
    "# Step 2: Compute optimal threshold per class\n",
    "optimal_thresholds = []\n",
    "threshold_range = np.linspace(0.0, 1.0, 101)\n",
    "\n",
    "for i in range(21):\n",
    "    best_thresh = 0.5\n",
    "    best_f1 = 0.0\n",
    "    for thresh in threshold_range:\n",
    "        preds = (torch.sigmoid(torch.tensor(logits[:, i])) > thresh).int()\n",
    "        f1 = f1_score(targets[:, i], preds, zero_division=0)\n",
    "        if f1 > best_f1:\n",
    "            best_f1 = f1\n",
    "            best_thresh = thresh\n",
    "    optimal_thresholds.append(best_thresh)\n",
    "\n",
    "optimal_thresholds = np.array(optimal_thresholds)\n",
    "print(\"Optimal thresholds per solver combination:\")\n",
    "print(optimal_thresholds)\n"
   ]
  },
  {
   "cell_type": "code",
   "execution_count": 54,
   "id": "db37a3b3",
   "metadata": {},
   "outputs": [
    {
     "name": "stdout",
     "output_type": "stream",
     "text": [
      "🔍 Unique predicted convergence patterns in the data: 1 / 90\n",
      "🔍 Unique true convergence patterns in the data: 9 / 90\n",
      "\n",
      "Top 10 predicted patterns in the data:\n",
      "\n",
      "000000000000000000    16\n",
      "000000100111000001    13\n",
      "000000000001000000    12\n",
      "000001100111000001    9\n",
      "000001100111100111    9\n",
      "000000100110000000    8\n",
      "000000100111100111    8\n",
      "000000000001000001    8\n",
      "000001000001000001    7\n",
      "\n",
      "Top 10 predicted patterns in the data:\n",
      "\n",
      "000000100111000001    90\n"
     ]
    }
   ],
   "source": [
    "from collections import Counter\n",
    "\n",
    "gnn_model.eval()\n",
    "predicted_patterns = []\n",
    "true_patterns = []\n",
    "\n",
    "with torch.no_grad():\n",
    "    with contextlib.redirect_stdout(None):\n",
    "        for data in test_dataset:\n",
    "        \n",
    "            data = data.to(device)\n",
    "            batch_vector = torch.zeros(data.num_nodes, dtype=torch.long, device=device)\n",
    "\n",
    "            y_conv_logits, _ = gnn_model(data.x, data.edge_index, batch_vector)\n",
    "            y_conv_true = data.y_conv.int().cpu().numpy().flatten()\n",
    "            y_conv_pred = (torch.sigmoid(y_conv_logits) > 0.5).int().cpu().numpy().flatten() # OR...\n",
    "            #y_conv_pred = (torch.sigmoid(y_conv_logits)> torch.tensor(optimal_thresholds, device=device)).int().cpu().numpy().flatten()\n",
    "\n",
    "\n",
    "            pattern_str = ''.join(map(str, y_conv_pred.tolist()))\n",
    "            predicted_patterns.append(pattern_str)\n",
    "\n",
    "            pattern_str = ''.join(map(str, y_conv_true.tolist()))\n",
    "            true_patterns.append(pattern_str)\n",
    "\n",
    "# Count unique predicted patterns\n",
    "predicted_pattern_counter= Counter(predicted_patterns)\n",
    "true_pattern_counter= Counter(true_patterns)\n",
    "\n",
    "print(f\"🔍 Unique predicted convergence patterns in the data: {len(predicted_pattern_counter)} / {len(test_dataset)}\")\n",
    "print(f\"🔍 Unique true convergence patterns in the data: {len(true_pattern_counter)} / {len(test_dataset)}\")\n",
    "print(\"\\nTop 10 predicted patterns in the data:\\n\")\n",
    "for pattern, count in true_pattern_counter.most_common(9):\n",
    "    print(f\"{pattern}    {count}\")\n",
    "\n",
    "print(\"\\nTop 10 predicted patterns in the data:\\n\")\n",
    "for pattern, count in predicted_pattern_counter.most_common(9):\n",
    "    print(f\"{pattern}    {count}\")"
   ]
  },
  {
   "cell_type": "code",
   "execution_count": 155,
   "id": "beac7862",
   "metadata": {},
   "outputs": [
    {
     "name": "stdout",
     "output_type": "stream",
     "text": [
      "[0 1 0 0 0 0 0 0 1 0 0 0 0 1 0 1 0 0 0 0 0]\n"
     ]
    }
   ],
   "source": [
    "y_conv_true = data.y_conv.int().cpu().numpy().flatten()\n",
    "\n",
    "print(y_conv_true)"
   ]
  },
  {
   "cell_type": "code",
   "execution_count": null,
   "id": "20c79269",
   "metadata": {},
   "outputs": [],
   "source": [
    "indx_pred = np.argmin(np.exp(-y_pred))\n",
    "indx_true = np.argmin(np.exp(-y_true))\n",
    "\n",
    "\n",
    "\n",
    "print(f\"Predicted solver: {labels[indx_pred]},   Total Time (s): {np.exp(-y_pred[indx_pred]):.5f} // vs {np.exp(-y_pred[indx_true]):.5f}\")\n",
    "print(f\"True solver:      {labels[indx_true]},   Total Time (s): {np.exp(-y_true[indx_true]):.5f} // vs {np.exp(-y_true[indx_pred]):.5f}\")\n",
    "#print(\"---------------------------------------------------------------------------------\")\n",
    "#print(f\"Predicted solver time for  {labels[indx_true]} is {np.exp(-y_pred[indx_true]):.5f}\")\n",
    "#print(f\"True solver time for  {labels[indx_pred]} is {np.exp(-y_true[indx_pred]):.5f}\")\n"
   ]
  },
  {
   "cell_type": "code",
   "execution_count": null,
   "id": "6caf62bb",
   "metadata": {},
   "outputs": [],
   "source": [
    "print(y_true)\n",
    "print(y_pred)\n"
   ]
  },
  {
   "cell_type": "markdown",
   "id": "85e0d6cf",
   "metadata": {},
   "source": [
    "### Accuracy for the training set:"
   ]
  },
  {
   "cell_type": "code",
   "execution_count": 110,
   "id": "ac0ffa6b",
   "metadata": {},
   "outputs": [
    {
     "ename": "NameError",
     "evalue": "name 'train_batch' is not defined",
     "output_type": "error",
     "traceback": [
      "\u001b[1;31m---------------------------------------------------------------------------\u001b[0m",
      "\u001b[1;31mNameError\u001b[0m                                 Traceback (most recent call last)",
      "Cell \u001b[1;32mIn[110], line 4\u001b[0m\n\u001b[0;32m      2\u001b[0m gnn_model\u001b[38;5;241m.\u001b[39meval()\n\u001b[0;32m      3\u001b[0m \u001b[38;5;28;01mwith\u001b[39;00m torch\u001b[38;5;241m.\u001b[39mno_grad():\n\u001b[1;32m----> 4\u001b[0m     y_pred \u001b[38;5;241m=\u001b[39m gnn_model(\u001b[43mtrain_batch\u001b[49m\u001b[38;5;241m.\u001b[39mx, train_batch\u001b[38;5;241m.\u001b[39medge_index, train_batch\u001b[38;5;241m.\u001b[39mbatch)\u001b[38;5;241m.\u001b[39mnumpy()\n\u001b[0;32m      5\u001b[0m     y_true \u001b[38;5;241m=\u001b[39m train_batch\u001b[38;5;241m.\u001b[39my\u001b[38;5;241m.\u001b[39mview(\u001b[38;5;241m-\u001b[39m\u001b[38;5;241m1\u001b[39m,m)\u001b[38;5;241m.\u001b[39mnumpy()\n\u001b[0;32m      7\u001b[0m \u001b[38;5;66;03m# Transform back from -log to positive time\u001b[39;00m\n",
      "\u001b[1;31mNameError\u001b[0m: name 'train_batch' is not defined"
     ]
    }
   ],
   "source": [
    "# Forward pass\n",
    "gnn_model.eval()\n",
    "with torch.no_grad():\n",
    "    y_pred = gnn_model(train_batch.x, train_batch.edge_index, train_batch.batch).numpy()\n",
    "    y_true = train_batch.y.view(-1,m).numpy()\n",
    "\n",
    "# Transform back from -log to positive time\n",
    "y_pred_times = np.exp(-y_pred)\n",
    "y_true_times = np.exp(-y_true)\n",
    "\n",
    "pred_best = np.argmin(y_pred_times, axis=1)\n",
    "true_best = np.argmin(y_true_times, axis=1)\n",
    "\n",
    "matches = np.sum(pred_best == true_best)\n",
    "total = len(pred_best)\n",
    "\n",
    "print(f\"Correct best solver prediction in {matches} out of {total} test cases, {100*matches/total: .2f} % accuracy.\")"
   ]
  },
  {
   "cell_type": "markdown",
   "id": "0fb2463c",
   "metadata": {},
   "source": [
    "### Accuracy for the test set:\n"
   ]
  },
  {
   "cell_type": "code",
   "execution_count": null,
   "id": "cfc767bf",
   "metadata": {},
   "outputs": [],
   "source": [
    "# Forward pass\n",
    "gnn_model.eval()\n",
    "with torch.no_grad():\n",
    "    y_pred = gnn_model(test_batch.x, test_batch.edge_index, test_batch.batch).numpy()\n",
    "    y_true = test_batch.y.view(-1,21).numpy()\n",
    "\n",
    "# Transform back from -log to positive time\n",
    "y_pred_times = np.exp(-y_pred)\n",
    "y_true_times = np.exp(-y_true)\n",
    "\n",
    "pred_best = np.argmin(y_pred_times, axis=1)\n",
    "true_best = np.argmin(y_true_times, axis=1)\n",
    "\n",
    "aux = np.array(range(len(pred_best)))\n",
    "dT_pp = y_pred_times[aux, pred_best] - y_pred_times[aux,true_best]\n",
    "dT_tt = y_true_times[aux,pred_best] - y_true_times[aux,true_best]\n",
    "dT_pt = y_pred_times[aux,pred_best] - y_true_times[aux,true_best]\n",
    "\n",
    "matches = np.sum(pred_best == true_best)\n",
    "total = len(pred_best)\n",
    "\n",
    "print(f\"Correct best solver prediction in {matches} out of {total} test cases,{100*matches/total: .2f} % accuracy.\")"
   ]
  },
  {
   "cell_type": "code",
   "execution_count": null,
   "id": "0cf61c57",
   "metadata": {},
   "outputs": [],
   "source": [
    "print(pred_best)\n",
    "print(true_best)"
   ]
  },
  {
   "cell_type": "code",
   "execution_count": null,
   "id": "49ddac89",
   "metadata": {},
   "outputs": [],
   "source": [
    "plt.hist(true_best, bins=21, alpha=0.5, label='True Best Solver', color='blue' );\n",
    "plt.hist(pred_best, bins=1, alpha=0.5, label='Predicted Best Solver', color='orange');\n",
    "plt.xlabel('Solver Index')\n",
    "plt.xticks(indices);\n",
    "plt.legend()\n",
    "plt.show()  "
   ]
  },
  {
   "cell_type": "code",
   "execution_count": null,
   "id": "bd025e41",
   "metadata": {},
   "outputs": [],
   "source": [
    "plt.hist(y_true.flatten(), bins=60, alpha=0.5, label='Distr of all true times (log)', color='blue' );\n",
    "plt.hist(y_pred.flatten(), bins=60, alpha=0.5, label='Distr of all predicted times (log)', color='orange');\n",
    "plt.xlabel('Times')\n",
    "plt.legend()\n",
    "plt.show()"
   ]
  },
  {
   "cell_type": "code",
   "execution_count": null,
   "id": "8821b456",
   "metadata": {},
   "outputs": [],
   "source": [
    "plt.hist(y_true.flatten() - y_pred.flatten(), bins=30, alpha=0.5, label='Distr of all true times (log)', color='blue' );\n",
    "plt.xlabel('Times')\n",
    "plt.legend()\n",
    "plt.show()"
   ]
  },
  {
   "cell_type": "code",
   "execution_count": null,
   "id": "f4e112c3",
   "metadata": {},
   "outputs": [],
   "source": [
    "plt.hist(dT_pp, bins=20, alpha=0.5, label='Predicted - Predicted Best');\n",
    "plt.hist(dT_tt, bins=20, alpha=0.5, label='True - True Best');\n",
    "plt.hist(dT_pt, bins=20, alpha=0.5, label='True - Predicted Best');"
   ]
  },
  {
   "cell_type": "code",
   "execution_count": null,
   "id": "f6d8f99f",
   "metadata": {},
   "outputs": [],
   "source": []
  },
  {
   "cell_type": "code",
   "execution_count": null,
   "id": "8441f4dd",
   "metadata": {},
   "outputs": [],
   "source": []
  }
 ],
 "metadata": {
  "kernelspec": {
   "display_name": "mytorch",
   "language": "python",
   "name": "python3"
  },
  "language_info": {
   "codemirror_mode": {
    "name": "ipython",
    "version": 3
   },
   "file_extension": ".py",
   "mimetype": "text/x-python",
   "name": "python",
   "nbconvert_exporter": "python",
   "pygments_lexer": "ipython3",
   "version": "3.8.17"
  }
 },
 "nbformat": 4,
 "nbformat_minor": 5
}
